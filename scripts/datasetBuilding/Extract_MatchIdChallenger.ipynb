{
 "cells": [
  {
   "cell_type": "code",
   "execution_count": 13,
   "id": "union-reservation",
   "metadata": {},
   "outputs": [
    {
     "name": "stdin",
     "output_type": "stream",
     "text": [
      "Insert file name to extract matchId:  first 10k.csv\n"
     ]
    },
    {
     "name": "stdout",
     "output_type": "stream",
     "text": [
      "Match id are succesifully extracted!\n"
     ]
    }
   ],
   "source": [
    "import pandas as pd\n",
    "import numpy as np \n",
    "import json\n",
    "\n",
    "fileName=input('Insert file name to extract matchId: ')\n",
    "#Download from link https://www.kaggle.com/fernandorubiogarcia/league-of-legends-high-elo-patch-1016\n",
    "# fileName=10.16_LeagueOfLegends_Games.csv\n",
    "dataSetExt1=pd.read_csv(fileName,sep = ';')\n",
    "\n",
    "listMatchID=[]\n",
    "\n",
    "for val in dataSetExt1[\"gameId\"].values:\n",
    "    listMatchID.append(int(val))\n",
    "    \n",
    "\n",
    "print(\"Match id are succesifully extracted!\")\n",
    "with open('listMatchId.txt', 'w') as filehandle:\n",
    "    json.dump(listMatchID, filehandle)"
   ]
  }
 ],
 "metadata": {
  "kernelspec": {
   "display_name": "Python 3",
   "language": "python",
   "name": "python3"
  },
  "language_info": {
   "codemirror_mode": {
    "name": "ipython",
    "version": 3
   },
   "file_extension": ".py",
   "mimetype": "text/x-python",
   "name": "python",
   "nbconvert_exporter": "python",
   "pygments_lexer": "ipython3",
   "version": "3.7.4"
  }
 },
 "nbformat": 4,
 "nbformat_minor": 5
}
