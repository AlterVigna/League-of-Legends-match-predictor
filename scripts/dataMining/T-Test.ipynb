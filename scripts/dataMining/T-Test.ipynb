{
 "cells": [
  {
   "cell_type": "code",
   "execution_count": null,
   "id": "seventh-camcorder",
   "metadata": {},
   "outputs": [],
   "source": [
    "import matplotlib.pyplot as plt\n",
    "import numpy as np\n",
    "import pandas as pd\n",
    "import seaborn as sns\n",
    "import warnings\n",
    "from pylab import rcParams\n",
    "from scipy.stats import ttest_ind"
   ]
  },
  {
   "cell_type": "code",
   "execution_count": null,
   "id": "declared-entrance",
   "metadata": {},
   "outputs": [],
   "source": [
    "def plot_distribution(inp):\n",
    "    plt.figure()\n",
    "    ax = sns.distplot(inp)\n",
    "    plt.axvline(np.mean(inp), color=\"k\", linestyle=\"dashed\", linewidth=5)\n",
    "    _, max_ = plt.ylim()\n",
    "    plt.text(\n",
    "        inp.mean() + inp.mean() / 10,\n",
    "        max_ - max_ / 10,\n",
    "        \"Mean: {:.2f}\".format(inp.mean()),\n",
    "    )\n",
    "    return plt.figure"
   ]
  },
  {
   "cell_type": "code",
   "execution_count": null,
   "id": "confident-overall",
   "metadata": {},
   "outputs": [],
   "source": [
    "def compare_2_groups(arr_1, arr_2, alpha, sample_size):\n",
    "    stat, p = ttest_ind(arr_1, arr_2)\n",
    "    print('Statistics=%.3f, p=%.3f' % (stat, p))\n",
    "    if p > alpha:\n",
    "        print('Same distributions (fail to reject H0)')\n",
    "    else:\n",
    "        print('Different distributions (reject H0)')"
   ]
  },
  {
   "cell_type": "code",
   "execution_count": null,
   "id": "empirical-comfort",
   "metadata": {},
   "outputs": [],
   "source": [
    "#Test-errors on RandomForest and SVM-Linear\n",
    "randForestError=[0.2505,0.2437,0.2431,0.2531,0.2539,0.2402,0.252,0.2412,0.2646]\n",
    "svmError=[0.2357,0.2427,0.2531,0.2375,0.2544,0.2416,0.2564,0.2512,0.2342,0.2602]\n",
    "\n",
    "randForestError=np.array(randForestError)\n",
    "svmError=np.array(svmError)\n",
    "\n",
    "print(\"Random Forest Error variance:  \"+ str(randForestError.var()))\n",
    "print(\"SVM - Linear Error variance:  \" +str(svmError.var()))\n",
    "\n",
    "compare_2_groups(randForestError, svmError, 0.05, 10)"
   ]
  },
  {
   "cell_type": "code",
   "execution_count": null,
   "id": "bored-calgary",
   "metadata": {},
   "outputs": [],
   "source": [
    "import seaborn as sns\n",
    "import matplotlib.pyplot as plt\n",
    "sns.kdeplot(randForestError, shade=True)\n",
    "sns.kdeplot(svmError, shade=True)\n",
    "plt.axvline(np.mean(randForestError), color='b', linestyle='dashed', linewidth=5)\n",
    "plt.axvline(np.mean(svmError), color='orange', linestyle='dashed', linewidth=5)\n",
    "plt.title(\"Paired Sample T-Test.\")"
   ]
  },
  {
   "cell_type": "code",
   "execution_count": null,
   "id": "british-office",
   "metadata": {},
   "outputs": [],
   "source": [
    "%matplotlib inline\n",
    "warnings.filterwarnings(\"ignore\")\n",
    "rcParams['figure.figsize'] = 20,10\n",
    "rcParams['font.size'] = 30\n",
    "sns.set()\n",
    "np.random.seed(8)"
   ]
  },
  {
   "cell_type": "code",
   "execution_count": null,
   "id": "cognitive-client",
   "metadata": {},
   "outputs": [],
   "source": [
    "plot_distribution(randForestError)\n",
    "plot_distribution(svmError)\n",
    "plt.figure()\n",
    "ax1 = sns.distplot(randForestError)\n",
    "ax2 = sns.distplot(svmError)\n",
    "plt.axvline(np.mean(randForestError), color='b', linestyle='dashed', linewidth=5)\n",
    "plt.axvline(np.mean(svmError), color='orange', linestyle='dashed', linewidth=5)\n"
   ]
  }
 ],
 "metadata": {
  "kernelspec": {
   "display_name": "Python 3",
   "language": "python",
   "name": "python3"
  },
  "language_info": {
   "codemirror_mode": {
    "name": "ipython",
    "version": 3
   },
   "file_extension": ".py",
   "mimetype": "text/x-python",
   "name": "python",
   "nbconvert_exporter": "python",
   "pygments_lexer": "ipython3",
   "version": "3.7.4"
  }
 },
 "nbformat": 4,
 "nbformat_minor": 5
}
